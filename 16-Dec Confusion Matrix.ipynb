{
 "cells": [
  {
   "cell_type": "code",
   "execution_count": 3,
   "metadata": {},
   "outputs": [
    {
     "name": "stdout",
     "output_type": "stream",
     "text": [
      "Confusion matrix:\n",
      " [[4 2]\n",
      " [1 3]]\n",
      "Accuracy Score: 0.7\n",
      "Report:               precision    recall  f1-score   support\n",
      "\n",
      "           0       0.80      0.67      0.73         6\n",
      "           1       0.60      0.75      0.67         4\n",
      "\n",
      "    accuracy                           0.70        10\n",
      "   macro avg       0.70      0.71      0.70        10\n",
      "weighted avg       0.72      0.70      0.70        10\n",
      "\n"
     ]
    }
   ],
   "source": [
    "from sklearn.metrics import confusion_matrix\n",
    "from sklearn.metrics import accuracy_score\n",
    "from sklearn.metrics import classification_report\n",
    "\n",
    "actual = [1,1,0,1,0,0,1,0,0,0]\n",
    "predicted = [1,0,0,1,0,0,1,1,1,0]\n",
    "\n",
    "results = confusion_matrix(actual, predicted)\n",
    "print(\"Confusion matrix:\\n\", results)\n",
    "print(\"Accuracy Score:\", accuracy_score(actual, predicted))\n",
    "print(\"Report:\", classification_report(actual, predicted))"
   ]
  },
  {
   "cell_type": "markdown",
   "metadata": {},
   "source": [
    "## LRC on Iris Dataset:"
   ]
  },
  {
   "cell_type": "code",
   "execution_count": 7,
   "metadata": {},
   "outputs": [
    {
     "name": "stdout",
     "output_type": "stream",
     "text": [
      "Confusion matrix:\n",
      " [[97  3]\n",
      " [ 0 50]]\n",
      "Accuracy Score: 0.98\n",
      "Report:               precision    recall  f1-score   support\n",
      "\n",
      "           0       1.00      0.97      0.98       100\n",
      "           1       0.94      1.00      0.97        50\n",
      "\n",
      "    accuracy                           0.98       150\n",
      "   macro avg       0.97      0.98      0.98       150\n",
      "weighted avg       0.98      0.98      0.98       150\n",
      "\n"
     ]
    },
    {
     "name": "stderr",
     "output_type": "stream",
     "text": [
      "C:\\Users\\msi1\\Anaconda3\\lib\\site-packages\\sklearn\\linear_model\\logistic.py:432: FutureWarning: Default solver will be changed to 'lbfgs' in 0.22. Specify a solver to silence this warning.\n",
      "  FutureWarning)\n"
     ]
    }
   ],
   "source": [
    "import numpy as np\n",
    "import pandas as pd\n",
    "from sklearn import datasets\n",
    "\n",
    "iris = datasets.load_iris()\n",
    "\n",
    "features = iris.data\n",
    "labels = (iris.target==2).astype(np.int)\n",
    "\n",
    "from sklearn.linear_model import LogisticRegression\n",
    "\n",
    "LRC = LogisticRegression()\n",
    "\n",
    "LRC.fit(features, labels)\n",
    "\n",
    "#Predicting with dataset\n",
    "predictsLRC = LRC.predict(features)\n",
    "\n",
    "actual = labels\n",
    "predicted = predictsLRC\n",
    "\n",
    "results = confusion_matrix(actual, predicted)\n",
    "print(\"Confusion matrix:\\n\", results)\n",
    "print(\"Accuracy Score:\", accuracy_score(actual, predicted))\n",
    "print(\"Report:\", classification_report(actual, predicted))"
   ]
  },
  {
   "cell_type": "markdown",
   "metadata": {},
   "source": [
    "## KNNC on Iris Dataset:"
   ]
  },
  {
   "cell_type": "code",
   "execution_count": 8,
   "metadata": {},
   "outputs": [
    {
     "name": "stdout",
     "output_type": "stream",
     "text": [
      "[0 0 0 0 0 0 0 0 0 0 0 0 0 0 0 0 0 0 0 0 0 0 0 0 0 0 0 0 0 0 0 0 0 0 0 0 0\n",
      " 0 0 0 0 0 0 0 0 0 0 0 0 0 1 1 1 1 1 1 1 1 1 1 1 1 1 1 1 1 1 1 1 1 2 1 2 1\n",
      " 1 1 1 1 1 1 1 1 1 2 1 1 1 1 1 1 1 1 1 1 1 1 1 1 1 1 2 2 2 2 2 2 1 2 2 2 2\n",
      " 2 2 2 2 2 2 2 2 1 2 2 2 2 2 2 2 2 2 2 2 2 2 2 2 2 2 2 2 2 2 2 2 2 2 2 2 2\n",
      " 2 2]\n",
      "Confusion matrix:\n",
      " [[50  0  0]\n",
      " [ 0 47  3]\n",
      " [ 0  2 48]]\n",
      "Accuracy Score: 0.9666666666666667\n",
      "Report:               precision    recall  f1-score   support\n",
      "\n",
      "           0       1.00      1.00      1.00        50\n",
      "           1       0.96      0.94      0.95        50\n",
      "           2       0.94      0.96      0.95        50\n",
      "\n",
      "    accuracy                           0.97       150\n",
      "   macro avg       0.97      0.97      0.97       150\n",
      "weighted avg       0.97      0.97      0.97       150\n",
      "\n"
     ]
    }
   ],
   "source": [
    "import numpy as np\n",
    "import pandas as pd\n",
    "from sklearn import datasets\n",
    "\n",
    "iris = datasets.load_iris()\n",
    "\n",
    "features = iris.data\n",
    "labels = iris.target\n",
    "\n",
    "from sklearn.neighbors import KNeighborsClassifier\n",
    "\n",
    "clf = KNeighborsClassifier()\n",
    "\n",
    "clf.fit(features, labels)\n",
    "\n",
    "#Predicting with dataset\n",
    "predicts = clf.predict(features)\n",
    "print(predicts)\n",
    "\n",
    "actual = labels\n",
    "predicted = predicts\n",
    "\n",
    "results = confusion_matrix(actual, predicted)\n",
    "print(\"Confusion matrix:\\n\", results)\n",
    "print(\"Accuracy Score:\", accuracy_score(actual, predicted))\n",
    "print(\"Report:\", classification_report(actual, predicted))"
   ]
  },
  {
   "cell_type": "markdown",
   "metadata": {},
   "source": [
    "## MNIST Dataset:"
   ]
  },
  {
   "cell_type": "code",
   "execution_count": 9,
   "metadata": {},
   "outputs": [
    {
     "name": "stdout",
     "output_type": "stream",
     "text": [
      "Confusion matrix:\n",
      " [[ 974    1    1    0    0    1    2    1    0    0]\n",
      " [   0 1133    2    0    0    0    0    0    0    0]\n",
      " [  11    8  991    2    1    0    1   15    3    0]\n",
      " [   0    3    3  976    1   13    1    6    3    4]\n",
      " [   3    7    0    0  944    0    4    2    1   21]\n",
      " [   5    0    0   12    2  862    4    1    2    4]\n",
      " [   5    3    0    0    3    2  945    0    0    0]\n",
      " [   0   22    4    0    3    0    0  988    0   11]\n",
      " [   8    3    5   13    6   12    5    5  913    4]\n",
      " [   5    7    3    9    7    3    1   10    2  962]]\n",
      "Accuracy Score: 0.9688\n",
      "Report:               precision    recall  f1-score   support\n",
      "\n",
      "           0       0.96      0.99      0.98       980\n",
      "           1       0.95      1.00      0.98      1135\n",
      "           2       0.98      0.96      0.97      1032\n",
      "           3       0.96      0.97      0.97      1010\n",
      "           4       0.98      0.96      0.97       982\n",
      "           5       0.97      0.97      0.97       892\n",
      "           6       0.98      0.99      0.98       958\n",
      "           7       0.96      0.96      0.96      1028\n",
      "           8       0.99      0.94      0.96       974\n",
      "           9       0.96      0.95      0.95      1009\n",
      "\n",
      "    accuracy                           0.97     10000\n",
      "   macro avg       0.97      0.97      0.97     10000\n",
      "weighted avg       0.97      0.97      0.97     10000\n",
      "\n"
     ]
    }
   ],
   "source": [
    " #Fetching dataset\n",
    "from sklearn.datasets import fetch_openml\n",
    "\n",
    "mnist = fetch_openml(\"mnist_784\")\n",
    "\n",
    "features = mnist.data\n",
    "labels = mnist.target\n",
    "\n",
    "#Splitting data into training and testing sets\n",
    "\n",
    "Features_Train, Features_Test = features[:60000], features[60000:]\n",
    "Labels_Train, Labels_Test = labels[:60000], labels[60000:]\n",
    "\n",
    "#Training the classifier\n",
    "from sklearn.neighbors import KNeighborsClassifier #KNN Classifier\n",
    "\n",
    "KNNC = KNeighborsClassifier()\n",
    "\n",
    "KNNC.fit(Features_Train, Labels_Train)\n",
    "\n",
    "#Predicting with dataset\n",
    "Labels_Predict = KNNC.predict(Features_Test)\n",
    "\n",
    "#Confusion matrix\n",
    "from sklearn.metrics import confusion_matrix\n",
    "from sklearn.metrics import accuracy_score\n",
    "from sklearn.metrics import classification_report\n",
    "\n",
    "actual = Labels_Test\n",
    "predicted = Labels_Predict\n",
    "\n",
    "results = confusion_matrix(actual, predicted)\n",
    "print(\"Confusion matrix:\\n\", results)\n",
    "print(\"Accuracy Score:\", accuracy_score(actual, predicted))\n",
    "print(\"Report:\", classification_report(actual, predicted))"
   ]
  },
  {
   "cell_type": "code",
   "execution_count": 16,
   "metadata": {},
   "outputs": [
    {
     "name": "stdout",
     "output_type": "stream",
     "text": [
      "Enter an index:30000\n",
      "The feature you selected is:\n"
     ]
    },
    {
     "data": {
      "image/png": "[encoded data removed]",
      "text/plain": [
       "<Figure size 432x288 with 1 Axes>"
      ]
     },
     "metadata": {
      "needs_background": "light"
     },
     "output_type": "display_data"
    },
    {
     "name": "stdout",
     "output_type": "stream",
     "text": [
      "The predicted label is: ['3']\n"
     ]
    }
   ],
   "source": [
    "import matplotlib\n",
    "import matplotlib.pyplot as plt\n",
    "\n",
    "n = int(input(\"Enter an index:\"))\n",
    "\n",
    "digit = features[n]\n",
    "\n",
    "print(\"The feature you selected is:\")\n",
    "\n",
    "#Reshaping digit\n",
    "digit = digit.reshape(28,28)\n",
    "plt.imshow(digit, cmap=matplotlib.cm.binary, interpolation=\"nearest\")\n",
    "\n",
    "#Removing axis\n",
    "plt.axis(\"off\")\n",
    "plt.show()\n",
    "\n",
    "print(\"The predicted label is:\", KNNC.predict([features[n]]))"
   ]
  },
  {
   "cell_type": "code",
   "execution_count": 20,
   "metadata": {},
   "outputs": [
    {
     "data": {
      "image/png": "[encoded data removed]",
      "text/plain": [
       "<Figure size 432x288 with 2 Axes>"
      ]
     },
     "metadata": {
      "needs_background": "light"
     },
     "output_type": "display_data"
    }
   ],
   "source": [
    "import seaborn as sns\n",
    "\n",
    "sns.heatmap(results)\n",
    "plt.show()"
   ]
  },
  {
   "cell_type": "code",
   "execution_count": null,
   "metadata": {},
   "outputs": [],
   "source": []
  }
 ],
 "metadata": {
  "kernelspec": {
   "display_name": "Python 3",
   "language": "python",
   "name": "python3"
  },
  "language_info": {
   "codemirror_mode": {
    "name": "ipython",
    "version": 3
   },
   "file_extension": ".py",
   "mimetype": "text/x-python",
   "name": "python",
   "nbconvert_exporter": "python",
   "pygments_lexer": "ipython3",
   "version": "3.7.3"
  }
 },
 "nbformat": 4,
 "nbformat_minor": 2
}
