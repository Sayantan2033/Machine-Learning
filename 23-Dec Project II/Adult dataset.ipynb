{
 "cells": [
  {
   "cell_type": "code",
   "execution_count": 7,
   "metadata": {},
   "outputs": [
    {
     "name": "stdout",
     "output_type": "stream",
     "text": [
      "<class 'pandas.core.frame.DataFrame'>\n",
      "RangeIndex: 32561 entries, 0 to 32560\n",
      "Data columns (total 15 columns):\n",
      "AGE               32561 non-null int64\n",
      "WORKCLASS         32561 non-null object\n",
      "FNLWGT            32561 non-null int64\n",
      "EDUCATION         32561 non-null object\n",
      "EDUCATION-NUM     32561 non-null int64\n",
      "MARITAL-STATUS    32561 non-null object\n",
      "OCCUPATION        32561 non-null object\n",
      "RELATIONSHIP      32561 non-null object\n",
      "RACE              32561 non-null object\n",
      "SEX               32561 non-null object\n",
      "CAPITAL-GAIN      32561 non-null int64\n",
      "CAPITAL-LOSS      32561 non-null int64\n",
      "HOURS-PER-WEEK    32561 non-null int64\n",
      "NATIVE-COUNTRY    32561 non-null object\n",
      "TARGET            32561 non-null object\n",
      "dtypes: int64(6), object(9)\n",
      "memory usage: 3.7+ MB\n"
     ]
    }
   ],
   "source": [
    "import pandas as pd\n",
    "data = pd.read_csv(\"Adult.csv\")\n",
    "data.head()\n",
    "\n",
    "data.info()"
   ]
  },
  {
   "cell_type": "code",
   "execution_count": 33,
   "metadata": {},
   "outputs": [],
   "source": [
    "features = data.iloc[:, :-1].values\n",
    "labels = (data.iloc[:, -1:].values).ravel()"
   ]
  },
  {
   "cell_type": "code",
   "execution_count": 27,
   "metadata": {},
   "outputs": [],
   "source": [
    "from sklearn.preprocessing import LabelEncoder, OneHotEncoder\n",
    "\n",
    "labelencoder_data = LabelEncoder()\n",
    "\n",
    "for i in [1,3,5,6,7,8,9,13]:\n",
    "    features[:, i] = labelencoder_data.fit_transform(features[:, i])\n",
    "    onehotencoder = OneHotEncoder(categorical_features=[i])"
   ]
  },
  {
   "cell_type": "code",
   "execution_count": 28,
   "metadata": {},
   "outputs": [],
   "source": [
    "from sklearn.model_selection import train_test_split\n",
    "\n",
    "Features_Train, Features_Test, Labels_Train, Labels_Test = train_test_split(features, labels, test_size=0.2, random_state=0)"
   ]
  },
  {
   "cell_type": "code",
   "execution_count": 29,
   "metadata": {},
   "outputs": [
    {
     "name": "stdout",
     "output_type": "stream",
     "text": [
      "Accuracy Score: 0.8504529402732995\n"
     ]
    }
   ],
   "source": [
    "#Random forest classifier\n",
    "from sklearn.ensemble import RandomForestClassifier\n",
    "\n",
    "RFC = RandomForestClassifier(random_state=0, n_estimators=100)\n",
    "\n",
    "RFC.fit(Features_Train, Labels_Train)\n",
    "\n",
    "Labels_Predict = RFC.predict(Features_Test)\n",
    "\n",
    "from sklearn.metrics import accuracy_score\n",
    "\n",
    "print(\"Accuracy Score:\", accuracy_score(Labels_Test, Labels_Predict))"
   ]
  },
  {
   "cell_type": "code",
   "execution_count": 30,
   "metadata": {},
   "outputs": [
    {
     "name": "stdout",
     "output_type": "stream",
     "text": [
      "Accuracy Score: 0.8043912175648703\n"
     ]
    }
   ],
   "source": [
    "#Decision tree classifier\n",
    "from sklearn.tree import DecisionTreeClassifier\n",
    "\n",
    "DTC = DecisionTreeClassifier(random_state=0)\n",
    "\n",
    "DTC.fit(Features_Train, Labels_Train)\n",
    "\n",
    "Labels_Predict_DTC = DTC.predict(Features_Test)\n",
    "\n",
    "from sklearn.metrics import accuracy_score\n",
    "\n",
    "print(\"Accuracy Score:\", accuracy_score(Labels_Test, Labels_Predict_DTC))"
   ]
  },
  {
   "cell_type": "markdown",
   "metadata": {},
   "source": [
    "## Pipelining:"
   ]
  },
  {
   "cell_type": "code",
   "execution_count": null,
   "metadata": {},
   "outputs": [],
   "source": []
  }
 ],
 "metadata": {
  "kernelspec": {
   "display_name": "Python 3",
   "language": "python",
   "name": "python3"
  },
  "language_info": {
   "codemirror_mode": {
    "name": "ipython",
    "version": 3
   },
   "file_extension": ".py",
   "mimetype": "text/x-python",
   "name": "python",
   "nbconvert_exporter": "python",
   "pygments_lexer": "ipython3",
   "version": "3.7.3"
  }
 },
 "nbformat": 4,
 "nbformat_minor": 2
}
