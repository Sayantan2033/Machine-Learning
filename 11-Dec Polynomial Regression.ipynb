{
 "cells": [
  {
   "cell_type": "markdown",
   "metadata": {},
   "source": [
    "# Polynomial Regression:"
   ]
  },
  {
   "cell_type": "code",
   "execution_count": 25,
   "metadata": {},
   "outputs": [
    {
     "name": "stdout",
     "output_type": "stream",
     "text": [
      "The root MSE is: 10.120437473614711\n",
      "The R^2 Score is: 0.8537647164420812\n"
     ]
    },
    {
     "data": {
      "image/png": "[encoded data removed]",
      "text/plain": [
       "<Figure size 432x288 with 1 Axes>"
      ]
     },
     "metadata": {
      "needs_background": "light"
     },
     "output_type": "display_data"
    }
   ],
   "source": [
    "import operator\n",
    "\n",
    "import numpy as np\n",
    "import matplotlib.pyplot as plt\n",
    "\n",
    "from sklearn.linear_model import LinearRegression\n",
    "from sklearn.metrics import mean_squared_error, r2_score\n",
    "from sklearn.preprocessing import PolynomialFeatures\n",
    "\n",
    "np.random.seed(0)\n",
    "x = 2 - 3 * np.random.normal(0, 1, 20)\n",
    "y = x - 2 * (x ** 2) + 0.5 * (x ** 3) + np.random.normal(-3, 3, 20)\n",
    "\n",
    "# transforming the data to include another axis\n",
    "x = x[:, np.newaxis]\n",
    "y = y[:, np.newaxis]\n",
    "\n",
    "polynomial_features= PolynomialFeatures(degree=2)\n",
    "x_poly = polynomial_features.fit_transform(x)\n",
    "\n",
    "model = LinearRegression()\n",
    "model.fit(x_poly, y)\n",
    "y_poly_pred = model.predict(x_poly)\n",
    "\n",
    "rmse = np.sqrt(mean_squared_error(y,y_poly_pred))\n",
    "r2 = r2_score(y,y_poly_pred)\n",
    "print(\"The root MSE is:\",rmse)\n",
    "print(\"The R^2 Score is:\",r2)\n",
    "\n",
    "plt.scatter(x, y, s=10)\n",
    "# sort the values of x before line plot\n",
    "sort_axis = operator.itemgetter(0)\n",
    "sorted_zip = sorted(zip(x,y_poly_pred), key=sort_axis)\n",
    "x, y_poly_pred = zip(*sorted_zip)\n",
    "plt.plot(x, y_poly_pred, color='m')\n",
    "plt.show()"
   ]
  },
  {
   "cell_type": "markdown",
   "metadata": {},
   "source": [
    "## Applying polynomial regression to employee dataset:"
   ]
  },
  {
   "cell_type": "code",
   "execution_count": 33,
   "metadata": {},
   "outputs": [
    {
     "name": "stdout",
     "output_type": "stream",
     "text": [
      "The root MSE is: 390.8825669936576\n",
      "The R^2 Score is: 0.8386515896422494\n"
     ]
    }
   ],
   "source": [
    "import pandas as pd\n",
    "emp = pd.read_csv(\"employee_data.csv\")\n",
    "emp\n",
    "\n",
    "#Setting features and labels\n",
    "features = np.array(emp.iloc[:,2:6])\n",
    "salary = np.array(emp.iloc[:,[6]])\n",
    "\n",
    "#Normalizing group\n",
    "from sklearn.preprocessing import LabelEncoder, OneHotEncoder\n",
    "\n",
    "labelencoder_X = LabelEncoder()\n",
    "features[:,0] = labelencoder_X.fit_transform(features[:,0])\n",
    "onehotencoder = OneHotEncoder(categorical_features=[0])\n",
    "\n",
    "\n",
    "#Splitting training and testing groups\n",
    "from sklearn.model_selection import train_test_split\n",
    "\n",
    "Features_Train, Features_Test, Salary_Train, Salary_Test = train_test_split(features, salary, test_size=0.2, random_state=0)\n",
    "\n",
    "#Training model\n",
    "from sklearn.linear_model import LinearRegression\n",
    "\n",
    "LR = LinearRegression()\n",
    "\n",
    "LR.fit(Features_Train, Salary_Train)\n",
    "\n",
    "#Predicting with dataset\n",
    "Salary_Predicts = LR.predict(Features_Test)\n",
    "\n",
    "rmse = np.sqrt(mean_squared_error(Salary_Predicts, Salary_Test))\n",
    "r2 = r2_score(Salary_Predicts, Salary_Test)\n",
    "print(\"The root MSE is:\",rmse)\n",
    "print(\"The R^2 Score is:\",r2)"
   ]
  },
  {
   "cell_type": "code",
   "execution_count": 45,
   "metadata": {},
   "outputs": [],
   "source": [
    "#Setting polynomial power to features\n",
    "from sklearn.preprocessing import PolynomialFeatures\n",
    "\n",
    "polynomial_features= PolynomialFeatures(degree=2) #2nd degree\n",
    "\n",
    "Poly1 = polynomial_features.fit_transform(features[:,2].reshape(-1, 1))[:,1:]\n",
    "Poly2 = polynomial_features.fit_transform(features[:,3].reshape(-1, 1))[:,1:]\n",
    "\n",
    "poly_features = np.concatenate((Poly1, Poly2), axis=1)\n",
    "poly_features = np.concatenate((features[:,[0,1]], poly_features), axis=1)"
   ]
  },
  {
   "cell_type": "code",
   "execution_count": 47,
   "metadata": {},
   "outputs": [
    {
     "name": "stdout",
     "output_type": "stream",
     "text": [
      "The root MSE is: 314.3019350772437\n",
      "The R^2 Score is: 0.8903618583090745\n"
     ]
    }
   ],
   "source": [
    "#Splitting training and testing groups\n",
    "from sklearn.model_selection import train_test_split\n",
    "\n",
    "Features_Train, Features_Test, Salary_Train, Salary_Test = train_test_split(poly_features, salary, test_size=0.2, random_state=0)\n",
    "\n",
    "#Training model\n",
    "from sklearn.linear_model import LinearRegression\n",
    "\n",
    "LR = LinearRegression()\n",
    "\n",
    "LR.fit(Features_Train, Salary_Train)\n",
    "\n",
    "#Predicting with dataset\n",
    "Salary_Predicts = LR.predict(Features_Test)\n",
    "\n",
    "rmse = np.sqrt(mean_squared_error(Salary_Predicts, Salary_Test))\n",
    "r2 = r2_score(Salary_Predicts, Salary_Test)\n",
    "print(\"The root MSE is:\",rmse)\n",
    "print(\"The R^2 Score is:\",r2)"
   ]
  },
  {
   "cell_type": "code",
   "execution_count": null,
   "metadata": {},
   "outputs": [],
   "source": []
  }
 ],
 "metadata": {
  "kernelspec": {
   "display_name": "Python 3",
   "language": "python",
   "name": "python3"
  },
  "language_info": {
   "codemirror_mode": {
    "name": "ipython",
    "version": 3
   },
   "file_extension": ".py",
   "mimetype": "text/x-python",
   "name": "python",
   "nbconvert_exporter": "python",
   "pygments_lexer": "ipython3",
   "version": "3.7.3"
  }
 },
 "nbformat": 4,
 "nbformat_minor": 2
}
