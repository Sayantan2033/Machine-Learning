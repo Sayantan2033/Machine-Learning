{
 "cells": [
  {
   "cell_type": "markdown",
   "metadata": {},
   "source": [
    "# Multiple Linear Regression"
   ]
  },
  {
   "cell_type": "code",
   "execution_count": 40,
   "metadata": {},
   "outputs": [
    {
     "data": {
      "image/png": "[encoded data removed]",
      "text/plain": [
       "<Figure size 432x288 with 1 Axes>"
      ]
     },
     "metadata": {
      "needs_background": "light"
     },
     "output_type": "display_data"
    }
   ],
   "source": [
    "import matplotlib.pyplot as plt\n",
    "import numpy as np\n",
    "import pandas as pd\n",
    "from sklearn.metrics import mean_squared_error\n",
    "\n",
    "#Loading dataset\n",
    "data = pd.read_csv(\"50_Startups_corrected.csv\")\n",
    "\n",
    "#Making features and labels\n",
    "X = data.iloc[:,:-1].values #Every column except last\n",
    "Y = data.iloc[:,4].values #Last column\n",
    "\n",
    "#Encoding for categorical data\n",
    "\n",
    "#Encoding the independent variables\n",
    "\n",
    "from sklearn.preprocessing import LabelEncoder, OneHotEncoder\n",
    "\n",
    "labelencoder_X = LabelEncoder()\n",
    "#print(labelencoder_X)\n",
    "\n",
    "X[:,3] = labelencoder_X.fit_transform(X[:,3])\n",
    "onehotencoder = OneHotEncoder(categorical_features=[3]) #Turning state name into a category\n",
    "\n",
    "#Avoid dummy variables\n",
    "X = X[:, 1:] #This is the index\n",
    "\n",
    "#Splitting the dataset into training and test set\n",
    "from sklearn.model_selection import train_test_split\n",
    "\n",
    "X_Train, X_Test, Y_Train, Y_Test = train_test_split(X, Y, test_size=0.2, random_state=0)\n",
    "\n",
    "#Fitting the multiple linear regression \n",
    "from sklearn.linear_model import LinearRegression\n",
    "\n",
    "regressor = LinearRegression()\n",
    "regressor.fit(X_Train, Y_Train)\n",
    "\n",
    "#Predicting Y values from X_Test\n",
    "Y_Predict = regressor.predict(X_Test)\n",
    "#print(Y_Predict)\n",
    "\n",
    "plt.plot(range(len(Y_Predict)),np.sort(Y_Test), label=\"Actual value\")\n",
    "plt.plot(range(len(Y_Predict)),np.sort(Y_Predict), label=\"Predicted value\")\n",
    "plt.legend(loc=\"upper left\")\n",
    "plt.show()"
   ]
  },
  {
   "cell_type": "code",
   "execution_count": 33,
   "metadata": {},
   "outputs": [
    {
     "data": {
      "text/plain": [
       "array([[182645.56, 118148.2, 1],\n",
       "       [91790.61, 249744.55, 0],\n",
       "       [110594.11, 229160.95, 1],\n",
       "       [84710.77, 164470.71, 1],\n",
       "       [101145.55, 407934.54, 1],\n",
       "       [127864.55, 353183.81, 2],\n",
       "       [65947.93, 185265.1, 2],\n",
       "       [152701.92, 88218.23, 2],\n",
       "       [122782.75, 303319.26, 1],\n",
       "       [91391.77, 366168.42, 1]], dtype=object)"
      ]
     },
     "execution_count": 33,
     "metadata": {},
     "output_type": "execute_result"
    }
   ],
   "source": [
    "X_Test"
   ]
  },
  {
   "cell_type": "code",
   "execution_count": 11,
   "metadata": {},
   "outputs": [
    {
     "name": "stdout",
     "output_type": "stream",
     "text": [
      "Our mean squared error is: 3424.3166882137334\n"
     ]
    }
   ],
   "source": [
    "#Using the diabetes dataset\n",
    "\n",
    "import matplotlib.pyplot as plt\n",
    "import numpy as np\n",
    "import pandas as pd\n",
    "from sklearn import datasets\n",
    "from sklearn.metrics import mean_squared_error\n",
    "\n",
    "#Loading dataset\n",
    "data = datasets.load_diabetes()\n",
    "\n",
    "#Making features and labels\n",
    "X = data.data #Every column except last\n",
    "Y = data.target #Last column\n",
    "\n",
    "#Splitting the dataset into training and test set\n",
    "from sklearn.model_selection import train_test_split\n",
    "\n",
    "X_Train, X_Test, Y_Train, Y_Test = train_test_split(X, Y, test_size=0.2, random_state=0)\n",
    "\n",
    "#Fitting the multiple linear regression \n",
    "from sklearn.linear_model import LinearRegression\n",
    "\n",
    "regressor = LinearRegression()\n",
    "regressor.fit(X_Train, Y_Train)\n",
    "\n",
    "#Predicting Y values from X_Test\n",
    "Y_Predict = regressor.predict(X_Test)\n",
    "\n",
    "print(\"Our mean squared error is:\", mean_squared_error(Y_Test, Y_Predict))"
   ]
  },
  {
   "cell_type": "code",
   "execution_count": null,
   "metadata": {},
   "outputs": [],
   "source": []
  }
 ],
 "metadata": {
  "kernelspec": {
   "display_name": "Python 3",
   "language": "python",
   "name": "python3"
  },
  "language_info": {
   "codemirror_mode": {
    "name": "ipython",
    "version": 3
   },
   "file_extension": ".py",
   "mimetype": "text/x-python",
   "name": "python",
   "nbconvert_exporter": "python",
   "pygments_lexer": "ipython3",
   "version": "3.7.3"
  }
 },
 "nbformat": 4,
 "nbformat_minor": 2
}
